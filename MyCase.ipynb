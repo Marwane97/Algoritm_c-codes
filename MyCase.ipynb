{
  "nbformat": 4,
  "nbformat_minor": 0,
  "metadata": {
    "colab": {
      "name": "MyCase.ipynb",
      "provenance": [],
      "collapsed_sections": [],
      "authorship_tag": "ABX9TyOpplr9W+v7Z7TX9YYlExti",
      "include_colab_link": true
    },
    "kernelspec": {
      "name": "python3",
      "display_name": "Python 3"
    }
  },
  "cells": [
    {
      "cell_type": "markdown",
      "metadata": {
        "id": "view-in-github",
        "colab_type": "text"
      },
      "source": [
        "<a href=\"https://colab.research.google.com/github/Marwane97/Algoritm_c-codes/blob/master/MyCase.ipynb\" target=\"_parent\"><img src=\"https://colab.research.google.com/assets/colab-badge.svg\" alt=\"Open In Colab\"/></a>"
      ]
    },
    {
      "cell_type": "markdown",
      "metadata": {
        "id": "4crY2PSOkvBa",
        "colab_type": "text"
      },
      "source": [
        "# **Çalışmanın Özeti**\n",
        "\n",
        "\n",
        "---\n",
        "\n",
        ">Bu çalışmada, kullandığım ML modeli Logistic Regression'dur. Logistic Regression, Scikit_Learn kütüphanesinde bulunan bir modeldir. O Lojistik fonksiyon kullanarak tahmin işlemini yapar. Onu kullanarak kuyruk numarası (\" TAIL_NUMBER\" ) ve uçuş tarihi parametrelerini dikkate alarak, 3 sınıflı sınıflandırma işlemini gerçekleştirdim. Bir uçuş, ya gecikmesiz, ya gecikmeli ya da iptal olma ihtimali vardır. Böylece, dataset'imizi belirli bir oranda train set (0.75%) ve test set (0.25%) olmak üzere iki gruba ayırdım. Train set'ini eğitim amaçlı olarak kullandıktan sonra, test seti ise, modelin doğruluğunu değerlendirmek için kullandım.\n",
        "\n",
        "\n",
        "\n",
        ">Geliştirdiğim sistemin alacağı girdi kısıtlı (PC1030 15-11-2020 kuyruk numarası ve tarih) olduğu için, modelin yaptığı tahmin daha da iyileştirmek mümkündür. Bu iyileştirmeyi gerçekleştirmek için, sadece kuyruk numarası ve tarihe sınırlandırmaktansa, daha fazla girdi verisini dikkate almakta fayda var diye düşünüyorum. Örnek olarak, her uçuşun delay/iptal olma ihtimalini daha keskin bir şekilde tahmin etmek için, hava durumu dikkate alınmalı, uçuşun nereden nereye gideceğinin bilgisini alıp kalkış ve varış havaalanlarının yoğunluk oranları da dikkate alınmalı, olası hava trafik yoğunluklarıda dikkate alınmalıdır. Bunun yanında, yapılacak uçuşun sorumlu şirketin önceki aylarda veya önceki seferlerde ne kadar gecikme/iptal durumu veya ne kadar dakiklik gösterdiğini dikkate alarak sonraki seferlerde delay/cancel yapıp yapmayacağını tahmin etme işlemi daha da iyileştirilebilir. \n",
        "Ayrıca, Reinforcement learning gibi bir öğrenme tipini de kullanarak sistemin kendi kendisi öğrenmesini sağlayabiliriz. Bu yöntemde, sistem doğru tahmin gerçekleştiğinde ona pozitif bir feedback (ödül), yanlış tahmin yapsa ona negatif bir feedback (ceza) vererek kendi kendisi girdi faktörleri ve aldığı ödül/ceza dikkate alarak iyileşip daha doğru tahminler yapabilecek hale gelir. Reinforcement Learning yerinde, benim yaptığım gibi Supervised Learning'ı kullanarak da tahmin işlemi yapılır. Burada kullanmış olduğum Logistik Regression yönteminin dışında da Neural networkler ve diğer sınıflandırma yöntemler kullanılarak tahmin işlemi yapmak mümkündür. \n",
        "\n",
        "> Yapay sinir ağları kullanmak istediğimizde her modelde olduğu gibi ilk olarak sayısal işlemler yapılacağı için, sayi tipinde olmayan girdileri (örneğin kuyruk numarası PC1030) sayisal hale dönüştürüp onlara denk gelen uygun sayıları hesaplayıp atamak gerekmektedir. Yapay sinir ağları giriş katmanı, gizli katmaları ve çıkış olmak üzere üç bölümden oluşur. Veri setimiz Neural Network modelimize uygulayarabiliriz ve beklenen sonuçları dikkate alarak tahmin işlemini yapabiliriz. Aynı zamanda, Neural Network'taki backpropagation işlemi sayesinde, her (n+1). seferdeki hesaplamada, önceki hesaplamanın hataları dikkate alınır ve onların azaltılması doğrultusunda devam edilir. Ek olarak, Neural Network'un bize sağlayabileceği başka bir fayda şudur: her uçuşun gecikmeli olma olasılığı veya iptal olma olasılığını oranlarla bize hesaplayabilmektedir. Bunları vermektense, o yine de bize muhtemel olan geçikmenin süresini de tahmin etmemizi sağlayabilir. Bunların sonucunda, elde edilen sistemi farklı yazılım uygulamalarına entegre edip uçuş delay/cancel olma tahminlerini gerçekleştirmemiz mümkündür.\n",
        "\n",
        ">Bu yazılım uygulamalarından birisi web uygulamalarıdır. Bu sistemi bir web uygulamasına entegre etmek istendiğinde, ilk olarak makine öğrenmesi modelimizin girdi verilerini nereden çekeceğini ve onun oluşturacağı çıktıların nerede nasıl bir formata gösterileceğine dikkat etmekte fayda var diye düşünüyorum. Modelin alacağı girdileri düşünüldüğünde, web uygulamanın bağlı olduğu veri tabanını kullanabiliriz. Güvenli olması acısından, orijinal veri tabanı kullanmaktansa, onun bir kopyasını elde edip onun üzerinde makine öğrenmesi analiz ve hesaplamaları yapılabilir ve modele o veriler girdi olarak sunduğunda, modelin üretiği tahmin sonuçları uçuşların seçim özelliklerinde de gösterilebilir. Mesela Uçuşlar gösterilirken, müşteriye gecikmeli/iptal olma oranlarına göre sıralanabilir veya böyle bir sıralama seçeneği de sunulabilir. Bence, her uçuş yapıldıktan sonra, ona ait gerçek gecikme bilgiler de veri tabanına eklenmeli ki sistemin sonraki tahminlerde daha verimli ve daha doğru bir şekilde tahmin edebilsin. Gerçek zamanlı bir web uygulamasına entegre etmek istediğimizde, bir API üzerinden model ile haberleşme işlemlerin yapılması (girdi/çıktı) sağlanabilir diye düşünüyorum. Bemce Sistemin performansının kötü bir şekilde etkilenmemesi için, modelimizin eğitimini (training) ne zaman gerçekleştirilmesi gerektiği de planlamakta fayda var (scheduling). Model'in ne kadar kullanıldığını kontrol etmek üzere, bir Log kayıdı de tutulabilir.     \n",
        "\n",
        "\n",
        "\n",
        "\n",
        "\n",
        "\n",
        "\n",
        "\n",
        "    \n"
      ]
    },
    {
      "cell_type": "markdown",
      "metadata": {
        "id": "D73E10IAuRvk",
        "colab_type": "text"
      },
      "source": [
        "\n",
        "---\n",
        "# **Kaggle den ' 2015 Flight Delays and Cancellations ' veri setini indirme**\n",
        "\n"
      ]
    },
    {
      "cell_type": "code",
      "metadata": {
        "id": "pcDDzcld0Vjj",
        "colab_type": "code",
        "colab": {
          "base_uri": "https://localhost:8080/",
          "height": 122
        },
        "outputId": "5203ed6a-2c95-41ee-d2b5-2516f99315b5"
      },
      "source": [
        "from google.colab import drive\n",
        "drive.mount('/content/gdrive')"
      ],
      "execution_count": null,
      "outputs": [
        {
          "output_type": "stream",
          "text": [
            "Go to this URL in a browser: https://accounts.google.com/o/oauth2/auth?client_id=947318989803-6bn6qk8qdgf4n4g3pfee6491hc0brc4i.apps.googleusercontent.com&redirect_uri=urn%3aietf%3awg%3aoauth%3a2.0%3aoob&response_type=code&scope=email%20https%3a%2f%2fwww.googleapis.com%2fauth%2fdocs.test%20https%3a%2f%2fwww.googleapis.com%2fauth%2fdrive%20https%3a%2f%2fwww.googleapis.com%2fauth%2fdrive.photos.readonly%20https%3a%2f%2fwww.googleapis.com%2fauth%2fpeopleapi.readonly\n",
            "\n",
            "Enter your authorization code:\n",
            "··········\n",
            "Mounted at /content/gdrive\n"
          ],
          "name": "stdout"
        }
      ]
    },
    {
      "cell_type": "code",
      "metadata": {
        "id": "mHp9C7ZV0tEV",
        "colab_type": "code",
        "colab": {}
      },
      "source": [
        "import os\n",
        "os.environ['KAGGLE_CONFIG_DIR'] = \"/content/gdrive/My Drive/Kaggle\""
      ],
      "execution_count": null,
      "outputs": []
    },
    {
      "cell_type": "code",
      "metadata": {
        "id": "eYnf23Ws1HiO",
        "colab_type": "code",
        "colab": {
          "base_uri": "https://localhost:8080/",
          "height": 34
        },
        "outputId": "f5f6fe97-9b61-4bb8-ed0a-989a536e17d5"
      },
      "source": [
        "%cd /content/gdrive/My Drive/Kaggle"
      ],
      "execution_count": null,
      "outputs": [
        {
          "output_type": "stream",
          "text": [
            "/content/gdrive/My Drive/Kaggle\n"
          ],
          "name": "stdout"
        }
      ]
    },
    {
      "cell_type": "code",
      "metadata": {
        "id": "1juVNvUp1Q19",
        "colab_type": "code",
        "colab": {
          "base_uri": "https://localhost:8080/",
          "height": 68
        },
        "outputId": "0c897373-579b-4bdc-bbb3-f765b9a63448"
      },
      "source": [
        "!kaggle datasets download -d usdot/flight-delays"
      ],
      "execution_count": null,
      "outputs": [
        {
          "output_type": "stream",
          "text": [
            "Downloading flight-delays.zip to /content/gdrive/My Drive/Kaggle\n",
            " 97% 186M/191M [00:03<00:00, 56.5MB/s]\n",
            "100% 191M/191M [00:03<00:00, 55.2MB/s]\n"
          ],
          "name": "stdout"
        }
      ]
    },
    {
      "cell_type": "code",
      "metadata": {
        "id": "VngyN3kE1hYE",
        "colab_type": "code",
        "colab": {
          "base_uri": "https://localhost:8080/",
          "height": 34
        },
        "outputId": "f460fbfd-c816-4901-a0e1-7ec62ab62cf6"
      },
      "source": [
        "!ls"
      ],
      "execution_count": null,
      "outputs": [
        {
          "output_type": "stream",
          "text": [
            "flight-delays.zip  kaggle.json\n"
          ],
          "name": "stdout"
        }
      ]
    },
    {
      "cell_type": "code",
      "metadata": {
        "id": "BAjm3VGt1sWo",
        "colab_type": "code",
        "colab": {
          "base_uri": "https://localhost:8080/",
          "height": 85
        },
        "outputId": "dd0929fe-321e-46e3-dd2a-020d3d93cb6a"
      },
      "source": [
        "!unzip \\*.zip  && rm *.zip"
      ],
      "execution_count": null,
      "outputs": [
        {
          "output_type": "stream",
          "text": [
            "Archive:  flight-delays.zip\n",
            "  inflating: airlines.csv            \n",
            "  inflating: airports.csv            \n",
            "  inflating: flights.csv             \n"
          ],
          "name": "stdout"
        }
      ]
    },
    {
      "cell_type": "code",
      "metadata": {
        "id": "_40p7NL810ky",
        "colab_type": "code",
        "colab": {}
      },
      "source": [
        "# Kullanacağım kütüphaneleri import etmek\n",
        "import pandas as pd\n",
        "import numpy as np\n",
        "import matplotlib.pyplot as plt\n",
        "import seaborn as sns\n",
        "pd.options.mode.chained_assignment = None"
      ],
      "execution_count": null,
      "outputs": []
    },
    {
      "cell_type": "code",
      "metadata": {
        "id": "FrZaFbaY2Ys3",
        "colab_type": "code",
        "colab": {
          "base_uri": "https://localhost:8080/",
          "height": 224
        },
        "outputId": "bd1b0800-24bd-490c-cec3-c00e50f5a51e"
      },
      "source": [
        "# Veri seti okumak\n",
        "flights = pd.read_csv(\"flights.csv\",low_memory=False)\n",
        "flights.head()"
      ],
      "execution_count": null,
      "outputs": [
        {
          "output_type": "execute_result",
          "data": {
            "text/html": [
              "<div>\n",
              "<style scoped>\n",
              "    .dataframe tbody tr th:only-of-type {\n",
              "        vertical-align: middle;\n",
              "    }\n",
              "\n",
              "    .dataframe tbody tr th {\n",
              "        vertical-align: top;\n",
              "    }\n",
              "\n",
              "    .dataframe thead th {\n",
              "        text-align: right;\n",
              "    }\n",
              "</style>\n",
              "<table border=\"1\" class=\"dataframe\">\n",
              "  <thead>\n",
              "    <tr style=\"text-align: right;\">\n",
              "      <th></th>\n",
              "      <th>YEAR</th>\n",
              "      <th>MONTH</th>\n",
              "      <th>DAY</th>\n",
              "      <th>DAY_OF_WEEK</th>\n",
              "      <th>AIRLINE</th>\n",
              "      <th>FLIGHT_NUMBER</th>\n",
              "      <th>TAIL_NUMBER</th>\n",
              "      <th>ORIGIN_AIRPORT</th>\n",
              "      <th>DESTINATION_AIRPORT</th>\n",
              "      <th>SCHEDULED_DEPARTURE</th>\n",
              "      <th>DEPARTURE_TIME</th>\n",
              "      <th>DEPARTURE_DELAY</th>\n",
              "      <th>TAXI_OUT</th>\n",
              "      <th>WHEELS_OFF</th>\n",
              "      <th>SCHEDULED_TIME</th>\n",
              "      <th>ELAPSED_TIME</th>\n",
              "      <th>AIR_TIME</th>\n",
              "      <th>DISTANCE</th>\n",
              "      <th>WHEELS_ON</th>\n",
              "      <th>TAXI_IN</th>\n",
              "      <th>SCHEDULED_ARRIVAL</th>\n",
              "      <th>ARRIVAL_TIME</th>\n",
              "      <th>ARRIVAL_DELAY</th>\n",
              "      <th>DIVERTED</th>\n",
              "      <th>CANCELLED</th>\n",
              "      <th>CANCELLATION_REASON</th>\n",
              "      <th>AIR_SYSTEM_DELAY</th>\n",
              "      <th>SECURITY_DELAY</th>\n",
              "      <th>AIRLINE_DELAY</th>\n",
              "      <th>LATE_AIRCRAFT_DELAY</th>\n",
              "      <th>WEATHER_DELAY</th>\n",
              "    </tr>\n",
              "  </thead>\n",
              "  <tbody>\n",
              "    <tr>\n",
              "      <th>0</th>\n",
              "      <td>2015</td>\n",
              "      <td>1</td>\n",
              "      <td>1</td>\n",
              "      <td>4</td>\n",
              "      <td>AS</td>\n",
              "      <td>98</td>\n",
              "      <td>N407AS</td>\n",
              "      <td>ANC</td>\n",
              "      <td>SEA</td>\n",
              "      <td>5</td>\n",
              "      <td>2354.0</td>\n",
              "      <td>-11.0</td>\n",
              "      <td>21.0</td>\n",
              "      <td>15.0</td>\n",
              "      <td>205.0</td>\n",
              "      <td>194.0</td>\n",
              "      <td>169.0</td>\n",
              "      <td>1448</td>\n",
              "      <td>404.0</td>\n",
              "      <td>4.0</td>\n",
              "      <td>430</td>\n",
              "      <td>408.0</td>\n",
              "      <td>-22.0</td>\n",
              "      <td>0</td>\n",
              "      <td>0</td>\n",
              "      <td>NaN</td>\n",
              "      <td>NaN</td>\n",
              "      <td>NaN</td>\n",
              "      <td>NaN</td>\n",
              "      <td>NaN</td>\n",
              "      <td>NaN</td>\n",
              "    </tr>\n",
              "    <tr>\n",
              "      <th>1</th>\n",
              "      <td>2015</td>\n",
              "      <td>1</td>\n",
              "      <td>1</td>\n",
              "      <td>4</td>\n",
              "      <td>AA</td>\n",
              "      <td>2336</td>\n",
              "      <td>N3KUAA</td>\n",
              "      <td>LAX</td>\n",
              "      <td>PBI</td>\n",
              "      <td>10</td>\n",
              "      <td>2.0</td>\n",
              "      <td>-8.0</td>\n",
              "      <td>12.0</td>\n",
              "      <td>14.0</td>\n",
              "      <td>280.0</td>\n",
              "      <td>279.0</td>\n",
              "      <td>263.0</td>\n",
              "      <td>2330</td>\n",
              "      <td>737.0</td>\n",
              "      <td>4.0</td>\n",
              "      <td>750</td>\n",
              "      <td>741.0</td>\n",
              "      <td>-9.0</td>\n",
              "      <td>0</td>\n",
              "      <td>0</td>\n",
              "      <td>NaN</td>\n",
              "      <td>NaN</td>\n",
              "      <td>NaN</td>\n",
              "      <td>NaN</td>\n",
              "      <td>NaN</td>\n",
              "      <td>NaN</td>\n",
              "    </tr>\n",
              "    <tr>\n",
              "      <th>2</th>\n",
              "      <td>2015</td>\n",
              "      <td>1</td>\n",
              "      <td>1</td>\n",
              "      <td>4</td>\n",
              "      <td>US</td>\n",
              "      <td>840</td>\n",
              "      <td>N171US</td>\n",
              "      <td>SFO</td>\n",
              "      <td>CLT</td>\n",
              "      <td>20</td>\n",
              "      <td>18.0</td>\n",
              "      <td>-2.0</td>\n",
              "      <td>16.0</td>\n",
              "      <td>34.0</td>\n",
              "      <td>286.0</td>\n",
              "      <td>293.0</td>\n",
              "      <td>266.0</td>\n",
              "      <td>2296</td>\n",
              "      <td>800.0</td>\n",
              "      <td>11.0</td>\n",
              "      <td>806</td>\n",
              "      <td>811.0</td>\n",
              "      <td>5.0</td>\n",
              "      <td>0</td>\n",
              "      <td>0</td>\n",
              "      <td>NaN</td>\n",
              "      <td>NaN</td>\n",
              "      <td>NaN</td>\n",
              "      <td>NaN</td>\n",
              "      <td>NaN</td>\n",
              "      <td>NaN</td>\n",
              "    </tr>\n",
              "    <tr>\n",
              "      <th>3</th>\n",
              "      <td>2015</td>\n",
              "      <td>1</td>\n",
              "      <td>1</td>\n",
              "      <td>4</td>\n",
              "      <td>AA</td>\n",
              "      <td>258</td>\n",
              "      <td>N3HYAA</td>\n",
              "      <td>LAX</td>\n",
              "      <td>MIA</td>\n",
              "      <td>20</td>\n",
              "      <td>15.0</td>\n",
              "      <td>-5.0</td>\n",
              "      <td>15.0</td>\n",
              "      <td>30.0</td>\n",
              "      <td>285.0</td>\n",
              "      <td>281.0</td>\n",
              "      <td>258.0</td>\n",
              "      <td>2342</td>\n",
              "      <td>748.0</td>\n",
              "      <td>8.0</td>\n",
              "      <td>805</td>\n",
              "      <td>756.0</td>\n",
              "      <td>-9.0</td>\n",
              "      <td>0</td>\n",
              "      <td>0</td>\n",
              "      <td>NaN</td>\n",
              "      <td>NaN</td>\n",
              "      <td>NaN</td>\n",
              "      <td>NaN</td>\n",
              "      <td>NaN</td>\n",
              "      <td>NaN</td>\n",
              "    </tr>\n",
              "    <tr>\n",
              "      <th>4</th>\n",
              "      <td>2015</td>\n",
              "      <td>1</td>\n",
              "      <td>1</td>\n",
              "      <td>4</td>\n",
              "      <td>AS</td>\n",
              "      <td>135</td>\n",
              "      <td>N527AS</td>\n",
              "      <td>SEA</td>\n",
              "      <td>ANC</td>\n",
              "      <td>25</td>\n",
              "      <td>24.0</td>\n",
              "      <td>-1.0</td>\n",
              "      <td>11.0</td>\n",
              "      <td>35.0</td>\n",
              "      <td>235.0</td>\n",
              "      <td>215.0</td>\n",
              "      <td>199.0</td>\n",
              "      <td>1448</td>\n",
              "      <td>254.0</td>\n",
              "      <td>5.0</td>\n",
              "      <td>320</td>\n",
              "      <td>259.0</td>\n",
              "      <td>-21.0</td>\n",
              "      <td>0</td>\n",
              "      <td>0</td>\n",
              "      <td>NaN</td>\n",
              "      <td>NaN</td>\n",
              "      <td>NaN</td>\n",
              "      <td>NaN</td>\n",
              "      <td>NaN</td>\n",
              "      <td>NaN</td>\n",
              "    </tr>\n",
              "  </tbody>\n",
              "</table>\n",
              "</div>"
            ],
            "text/plain": [
              "   YEAR  MONTH  DAY  ...  AIRLINE_DELAY LATE_AIRCRAFT_DELAY  WEATHER_DELAY\n",
              "0  2015      1    1  ...            NaN                 NaN            NaN\n",
              "1  2015      1    1  ...            NaN                 NaN            NaN\n",
              "2  2015      1    1  ...            NaN                 NaN            NaN\n",
              "3  2015      1    1  ...            NaN                 NaN            NaN\n",
              "4  2015      1    1  ...            NaN                 NaN            NaN\n",
              "\n",
              "[5 rows x 31 columns]"
            ]
          },
          "metadata": {
            "tags": []
          },
          "execution_count": 8
        }
      ]
    },
    {
      "cell_type": "code",
      "metadata": {
        "id": "VEMBOHM22thF",
        "colab_type": "code",
        "colab": {
          "base_uri": "https://localhost:8080/",
          "height": 317
        },
        "outputId": "61d7b796-a7e8-4946-b294-4725e6902e29"
      },
      "source": [
        "# Veri seti incelemek \n",
        "flights.describe()"
      ],
      "execution_count": null,
      "outputs": [
        {
          "output_type": "execute_result",
          "data": {
            "text/html": [
              "<div>\n",
              "<style scoped>\n",
              "    .dataframe tbody tr th:only-of-type {\n",
              "        vertical-align: middle;\n",
              "    }\n",
              "\n",
              "    .dataframe tbody tr th {\n",
              "        vertical-align: top;\n",
              "    }\n",
              "\n",
              "    .dataframe thead th {\n",
              "        text-align: right;\n",
              "    }\n",
              "</style>\n",
              "<table border=\"1\" class=\"dataframe\">\n",
              "  <thead>\n",
              "    <tr style=\"text-align: right;\">\n",
              "      <th></th>\n",
              "      <th>YEAR</th>\n",
              "      <th>MONTH</th>\n",
              "      <th>DAY</th>\n",
              "      <th>DAY_OF_WEEK</th>\n",
              "      <th>FLIGHT_NUMBER</th>\n",
              "      <th>SCHEDULED_DEPARTURE</th>\n",
              "      <th>DEPARTURE_TIME</th>\n",
              "      <th>DEPARTURE_DELAY</th>\n",
              "      <th>TAXI_OUT</th>\n",
              "      <th>WHEELS_OFF</th>\n",
              "      <th>SCHEDULED_TIME</th>\n",
              "      <th>ELAPSED_TIME</th>\n",
              "      <th>AIR_TIME</th>\n",
              "      <th>DISTANCE</th>\n",
              "      <th>WHEELS_ON</th>\n",
              "      <th>TAXI_IN</th>\n",
              "      <th>SCHEDULED_ARRIVAL</th>\n",
              "      <th>ARRIVAL_TIME</th>\n",
              "      <th>ARRIVAL_DELAY</th>\n",
              "      <th>DIVERTED</th>\n",
              "      <th>CANCELLED</th>\n",
              "      <th>AIR_SYSTEM_DELAY</th>\n",
              "      <th>SECURITY_DELAY</th>\n",
              "      <th>AIRLINE_DELAY</th>\n",
              "      <th>LATE_AIRCRAFT_DELAY</th>\n",
              "      <th>WEATHER_DELAY</th>\n",
              "    </tr>\n",
              "  </thead>\n",
              "  <tbody>\n",
              "    <tr>\n",
              "      <th>count</th>\n",
              "      <td>5819079.0</td>\n",
              "      <td>5.819079e+06</td>\n",
              "      <td>5.819079e+06</td>\n",
              "      <td>5.819079e+06</td>\n",
              "      <td>5.819079e+06</td>\n",
              "      <td>5.819079e+06</td>\n",
              "      <td>5.732926e+06</td>\n",
              "      <td>5.732926e+06</td>\n",
              "      <td>5.730032e+06</td>\n",
              "      <td>5.730032e+06</td>\n",
              "      <td>5.819073e+06</td>\n",
              "      <td>5.714008e+06</td>\n",
              "      <td>5.714008e+06</td>\n",
              "      <td>5.819079e+06</td>\n",
              "      <td>5.726566e+06</td>\n",
              "      <td>5.726566e+06</td>\n",
              "      <td>5.819079e+06</td>\n",
              "      <td>5.726566e+06</td>\n",
              "      <td>5.714008e+06</td>\n",
              "      <td>5.819079e+06</td>\n",
              "      <td>5.819079e+06</td>\n",
              "      <td>1.063439e+06</td>\n",
              "      <td>1.063439e+06</td>\n",
              "      <td>1.063439e+06</td>\n",
              "      <td>1.063439e+06</td>\n",
              "      <td>1.063439e+06</td>\n",
              "    </tr>\n",
              "    <tr>\n",
              "      <th>mean</th>\n",
              "      <td>2015.0</td>\n",
              "      <td>6.524085e+00</td>\n",
              "      <td>1.570459e+01</td>\n",
              "      <td>3.926941e+00</td>\n",
              "      <td>2.173093e+03</td>\n",
              "      <td>1.329602e+03</td>\n",
              "      <td>1.335204e+03</td>\n",
              "      <td>9.370158e+00</td>\n",
              "      <td>1.607166e+01</td>\n",
              "      <td>1.357171e+03</td>\n",
              "      <td>1.416859e+02</td>\n",
              "      <td>1.370062e+02</td>\n",
              "      <td>1.135116e+02</td>\n",
              "      <td>8.223565e+02</td>\n",
              "      <td>1.471469e+03</td>\n",
              "      <td>7.434971e+00</td>\n",
              "      <td>1.493808e+03</td>\n",
              "      <td>1.476491e+03</td>\n",
              "      <td>4.407057e+00</td>\n",
              "      <td>2.609863e-03</td>\n",
              "      <td>1.544643e-02</td>\n",
              "      <td>1.348057e+01</td>\n",
              "      <td>7.615387e-02</td>\n",
              "      <td>1.896955e+01</td>\n",
              "      <td>2.347284e+01</td>\n",
              "      <td>2.915290e+00</td>\n",
              "    </tr>\n",
              "    <tr>\n",
              "      <th>std</th>\n",
              "      <td>0.0</td>\n",
              "      <td>3.405137e+00</td>\n",
              "      <td>8.783425e+00</td>\n",
              "      <td>1.988845e+00</td>\n",
              "      <td>1.757064e+03</td>\n",
              "      <td>4.837518e+02</td>\n",
              "      <td>4.964233e+02</td>\n",
              "      <td>3.708094e+01</td>\n",
              "      <td>8.895574e+00</td>\n",
              "      <td>4.980094e+02</td>\n",
              "      <td>7.521058e+01</td>\n",
              "      <td>7.421107e+01</td>\n",
              "      <td>7.223082e+01</td>\n",
              "      <td>6.077843e+02</td>\n",
              "      <td>5.221879e+02</td>\n",
              "      <td>5.638548e+00</td>\n",
              "      <td>5.071647e+02</td>\n",
              "      <td>5.263197e+02</td>\n",
              "      <td>3.927130e+01</td>\n",
              "      <td>5.102012e-02</td>\n",
              "      <td>1.233201e-01</td>\n",
              "      <td>2.800368e+01</td>\n",
              "      <td>2.143460e+00</td>\n",
              "      <td>4.816164e+01</td>\n",
              "      <td>4.319702e+01</td>\n",
              "      <td>2.043334e+01</td>\n",
              "    </tr>\n",
              "    <tr>\n",
              "      <th>min</th>\n",
              "      <td>2015.0</td>\n",
              "      <td>1.000000e+00</td>\n",
              "      <td>1.000000e+00</td>\n",
              "      <td>1.000000e+00</td>\n",
              "      <td>1.000000e+00</td>\n",
              "      <td>1.000000e+00</td>\n",
              "      <td>1.000000e+00</td>\n",
              "      <td>-8.200000e+01</td>\n",
              "      <td>1.000000e+00</td>\n",
              "      <td>1.000000e+00</td>\n",
              "      <td>1.800000e+01</td>\n",
              "      <td>1.400000e+01</td>\n",
              "      <td>7.000000e+00</td>\n",
              "      <td>2.100000e+01</td>\n",
              "      <td>1.000000e+00</td>\n",
              "      <td>1.000000e+00</td>\n",
              "      <td>1.000000e+00</td>\n",
              "      <td>1.000000e+00</td>\n",
              "      <td>-8.700000e+01</td>\n",
              "      <td>0.000000e+00</td>\n",
              "      <td>0.000000e+00</td>\n",
              "      <td>0.000000e+00</td>\n",
              "      <td>0.000000e+00</td>\n",
              "      <td>0.000000e+00</td>\n",
              "      <td>0.000000e+00</td>\n",
              "      <td>0.000000e+00</td>\n",
              "    </tr>\n",
              "    <tr>\n",
              "      <th>25%</th>\n",
              "      <td>2015.0</td>\n",
              "      <td>4.000000e+00</td>\n",
              "      <td>8.000000e+00</td>\n",
              "      <td>2.000000e+00</td>\n",
              "      <td>7.300000e+02</td>\n",
              "      <td>9.170000e+02</td>\n",
              "      <td>9.210000e+02</td>\n",
              "      <td>-5.000000e+00</td>\n",
              "      <td>1.100000e+01</td>\n",
              "      <td>9.350000e+02</td>\n",
              "      <td>8.500000e+01</td>\n",
              "      <td>8.200000e+01</td>\n",
              "      <td>6.000000e+01</td>\n",
              "      <td>3.730000e+02</td>\n",
              "      <td>1.054000e+03</td>\n",
              "      <td>4.000000e+00</td>\n",
              "      <td>1.110000e+03</td>\n",
              "      <td>1.059000e+03</td>\n",
              "      <td>-1.300000e+01</td>\n",
              "      <td>0.000000e+00</td>\n",
              "      <td>0.000000e+00</td>\n",
              "      <td>0.000000e+00</td>\n",
              "      <td>0.000000e+00</td>\n",
              "      <td>0.000000e+00</td>\n",
              "      <td>0.000000e+00</td>\n",
              "      <td>0.000000e+00</td>\n",
              "    </tr>\n",
              "    <tr>\n",
              "      <th>50%</th>\n",
              "      <td>2015.0</td>\n",
              "      <td>7.000000e+00</td>\n",
              "      <td>1.600000e+01</td>\n",
              "      <td>4.000000e+00</td>\n",
              "      <td>1.690000e+03</td>\n",
              "      <td>1.325000e+03</td>\n",
              "      <td>1.330000e+03</td>\n",
              "      <td>-2.000000e+00</td>\n",
              "      <td>1.400000e+01</td>\n",
              "      <td>1.343000e+03</td>\n",
              "      <td>1.230000e+02</td>\n",
              "      <td>1.180000e+02</td>\n",
              "      <td>9.400000e+01</td>\n",
              "      <td>6.470000e+02</td>\n",
              "      <td>1.509000e+03</td>\n",
              "      <td>6.000000e+00</td>\n",
              "      <td>1.520000e+03</td>\n",
              "      <td>1.512000e+03</td>\n",
              "      <td>-5.000000e+00</td>\n",
              "      <td>0.000000e+00</td>\n",
              "      <td>0.000000e+00</td>\n",
              "      <td>2.000000e+00</td>\n",
              "      <td>0.000000e+00</td>\n",
              "      <td>2.000000e+00</td>\n",
              "      <td>3.000000e+00</td>\n",
              "      <td>0.000000e+00</td>\n",
              "    </tr>\n",
              "    <tr>\n",
              "      <th>75%</th>\n",
              "      <td>2015.0</td>\n",
              "      <td>9.000000e+00</td>\n",
              "      <td>2.300000e+01</td>\n",
              "      <td>6.000000e+00</td>\n",
              "      <td>3.230000e+03</td>\n",
              "      <td>1.730000e+03</td>\n",
              "      <td>1.740000e+03</td>\n",
              "      <td>7.000000e+00</td>\n",
              "      <td>1.900000e+01</td>\n",
              "      <td>1.754000e+03</td>\n",
              "      <td>1.730000e+02</td>\n",
              "      <td>1.680000e+02</td>\n",
              "      <td>1.440000e+02</td>\n",
              "      <td>1.062000e+03</td>\n",
              "      <td>1.911000e+03</td>\n",
              "      <td>9.000000e+00</td>\n",
              "      <td>1.918000e+03</td>\n",
              "      <td>1.917000e+03</td>\n",
              "      <td>8.000000e+00</td>\n",
              "      <td>0.000000e+00</td>\n",
              "      <td>0.000000e+00</td>\n",
              "      <td>1.800000e+01</td>\n",
              "      <td>0.000000e+00</td>\n",
              "      <td>1.900000e+01</td>\n",
              "      <td>2.900000e+01</td>\n",
              "      <td>0.000000e+00</td>\n",
              "    </tr>\n",
              "    <tr>\n",
              "      <th>max</th>\n",
              "      <td>2015.0</td>\n",
              "      <td>1.200000e+01</td>\n",
              "      <td>3.100000e+01</td>\n",
              "      <td>7.000000e+00</td>\n",
              "      <td>9.855000e+03</td>\n",
              "      <td>2.359000e+03</td>\n",
              "      <td>2.400000e+03</td>\n",
              "      <td>1.988000e+03</td>\n",
              "      <td>2.250000e+02</td>\n",
              "      <td>2.400000e+03</td>\n",
              "      <td>7.180000e+02</td>\n",
              "      <td>7.660000e+02</td>\n",
              "      <td>6.900000e+02</td>\n",
              "      <td>4.983000e+03</td>\n",
              "      <td>2.400000e+03</td>\n",
              "      <td>2.480000e+02</td>\n",
              "      <td>2.400000e+03</td>\n",
              "      <td>2.400000e+03</td>\n",
              "      <td>1.971000e+03</td>\n",
              "      <td>1.000000e+00</td>\n",
              "      <td>1.000000e+00</td>\n",
              "      <td>1.134000e+03</td>\n",
              "      <td>5.730000e+02</td>\n",
              "      <td>1.971000e+03</td>\n",
              "      <td>1.331000e+03</td>\n",
              "      <td>1.211000e+03</td>\n",
              "    </tr>\n",
              "  </tbody>\n",
              "</table>\n",
              "</div>"
            ],
            "text/plain": [
              "            YEAR         MONTH  ...  LATE_AIRCRAFT_DELAY  WEATHER_DELAY\n",
              "count  5819079.0  5.819079e+06  ...         1.063439e+06   1.063439e+06\n",
              "mean      2015.0  6.524085e+00  ...         2.347284e+01   2.915290e+00\n",
              "std          0.0  3.405137e+00  ...         4.319702e+01   2.043334e+01\n",
              "min       2015.0  1.000000e+00  ...         0.000000e+00   0.000000e+00\n",
              "25%       2015.0  4.000000e+00  ...         0.000000e+00   0.000000e+00\n",
              "50%       2015.0  7.000000e+00  ...         3.000000e+00   0.000000e+00\n",
              "75%       2015.0  9.000000e+00  ...         2.900000e+01   0.000000e+00\n",
              "max       2015.0  1.200000e+01  ...         1.331000e+03   1.211000e+03\n",
              "\n",
              "[8 rows x 26 columns]"
            ]
          },
          "metadata": {
            "tags": []
          },
          "execution_count": 9
        }
      ]
    },
    {
      "cell_type": "code",
      "metadata": {
        "id": "H8m3Cftf3LHk",
        "colab_type": "code",
        "colab": {
          "base_uri": "https://localhost:8080/",
          "height": 170
        },
        "outputId": "efac0e66-7d31-473b-b94d-0825b4b6c23f"
      },
      "source": [
        "flights.columns"
      ],
      "execution_count": null,
      "outputs": [
        {
          "output_type": "execute_result",
          "data": {
            "text/plain": [
              "Index(['YEAR', 'MONTH', 'DAY', 'DAY_OF_WEEK', 'AIRLINE', 'FLIGHT_NUMBER',\n",
              "       'TAIL_NUMBER', 'ORIGIN_AIRPORT', 'DESTINATION_AIRPORT',\n",
              "       'SCHEDULED_DEPARTURE', 'DEPARTURE_TIME', 'DEPARTURE_DELAY', 'TAXI_OUT',\n",
              "       'WHEELS_OFF', 'SCHEDULED_TIME', 'ELAPSED_TIME', 'AIR_TIME', 'DISTANCE',\n",
              "       'WHEELS_ON', 'TAXI_IN', 'SCHEDULED_ARRIVAL', 'ARRIVAL_TIME',\n",
              "       'ARRIVAL_DELAY', 'DIVERTED', 'CANCELLED', 'CANCELLATION_REASON',\n",
              "       'AIR_SYSTEM_DELAY', 'SECURITY_DELAY', 'AIRLINE_DELAY',\n",
              "       'LATE_AIRCRAFT_DELAY', 'WEATHER_DELAY'],\n",
              "      dtype='object')"
            ]
          },
          "metadata": {
            "tags": []
          },
          "execution_count": 10
        }
      ]
    },
    {
      "cell_type": "code",
      "metadata": {
        "id": "foi4esIL230p",
        "colab_type": "code",
        "colab": {
          "base_uri": "https://localhost:8080/",
          "height": 204
        },
        "outputId": "82597d3b-897f-46e0-e1ea-235c9099b128"
      },
      "source": [
        "canceled_delay = flights[['MONTH','DAY','TAIL_NUMBER','CANCELLED','ARRIVAL_DELAY']]\n",
        "canceled_delay.head()"
      ],
      "execution_count": null,
      "outputs": [
        {
          "output_type": "execute_result",
          "data": {
            "text/html": [
              "<div>\n",
              "<style scoped>\n",
              "    .dataframe tbody tr th:only-of-type {\n",
              "        vertical-align: middle;\n",
              "    }\n",
              "\n",
              "    .dataframe tbody tr th {\n",
              "        vertical-align: top;\n",
              "    }\n",
              "\n",
              "    .dataframe thead th {\n",
              "        text-align: right;\n",
              "    }\n",
              "</style>\n",
              "<table border=\"1\" class=\"dataframe\">\n",
              "  <thead>\n",
              "    <tr style=\"text-align: right;\">\n",
              "      <th></th>\n",
              "      <th>MONTH</th>\n",
              "      <th>DAY</th>\n",
              "      <th>TAIL_NUMBER</th>\n",
              "      <th>CANCELLED</th>\n",
              "      <th>ARRIVAL_DELAY</th>\n",
              "    </tr>\n",
              "  </thead>\n",
              "  <tbody>\n",
              "    <tr>\n",
              "      <th>0</th>\n",
              "      <td>1</td>\n",
              "      <td>1</td>\n",
              "      <td>N407AS</td>\n",
              "      <td>0</td>\n",
              "      <td>-22.0</td>\n",
              "    </tr>\n",
              "    <tr>\n",
              "      <th>1</th>\n",
              "      <td>1</td>\n",
              "      <td>1</td>\n",
              "      <td>N3KUAA</td>\n",
              "      <td>0</td>\n",
              "      <td>-9.0</td>\n",
              "    </tr>\n",
              "    <tr>\n",
              "      <th>2</th>\n",
              "      <td>1</td>\n",
              "      <td>1</td>\n",
              "      <td>N171US</td>\n",
              "      <td>0</td>\n",
              "      <td>5.0</td>\n",
              "    </tr>\n",
              "    <tr>\n",
              "      <th>3</th>\n",
              "      <td>1</td>\n",
              "      <td>1</td>\n",
              "      <td>N3HYAA</td>\n",
              "      <td>0</td>\n",
              "      <td>-9.0</td>\n",
              "    </tr>\n",
              "    <tr>\n",
              "      <th>4</th>\n",
              "      <td>1</td>\n",
              "      <td>1</td>\n",
              "      <td>N527AS</td>\n",
              "      <td>0</td>\n",
              "      <td>-21.0</td>\n",
              "    </tr>\n",
              "  </tbody>\n",
              "</table>\n",
              "</div>"
            ],
            "text/plain": [
              "   MONTH  DAY TAIL_NUMBER  CANCELLED  ARRIVAL_DELAY\n",
              "0      1    1      N407AS          0          -22.0\n",
              "1      1    1      N3KUAA          0           -9.0\n",
              "2      1    1      N171US          0            5.0\n",
              "3      1    1      N3HYAA          0           -9.0\n",
              "4      1    1      N527AS          0          -21.0"
            ]
          },
          "metadata": {
            "tags": []
          },
          "execution_count": 40
        }
      ]
    },
    {
      "cell_type": "code",
      "metadata": {
        "id": "0b185FE-5eux",
        "colab_type": "code",
        "colab": {
          "base_uri": "https://localhost:8080/",
          "height": 119
        },
        "outputId": "de31c48c-16e3-448b-b8b7-c5766e42ee06"
      },
      "source": [
        "canceled_delay.isnull().sum(axis=0)"
      ],
      "execution_count": null,
      "outputs": [
        {
          "output_type": "execute_result",
          "data": {
            "text/plain": [
              "MONTH                 0\n",
              "DAY                   0\n",
              "TAIL_NUMBER       14721\n",
              "CANCELLED             0\n",
              "ARRIVAL_DELAY    105071\n",
              "dtype: int64"
            ]
          },
          "metadata": {
            "tags": []
          },
          "execution_count": 14
        }
      ]
    },
    {
      "cell_type": "code",
      "metadata": {
        "id": "hTzyqKSt5gqH",
        "colab_type": "code",
        "colab": {}
      },
      "source": [
        ""
      ],
      "execution_count": null,
      "outputs": []
    },
    {
      "cell_type": "markdown",
      "metadata": {
        "id": "7DwpBgDI43UC",
        "colab_type": "text"
      },
      "source": [
        "\n",
        "---\n",
        "# **\"TAIL_NUMBER\" sayısal olarak çevirelim**\n",
        "\n",
        "\n",
        "\n"
      ]
    },
    {
      "cell_type": "code",
      "metadata": {
        "id": "XszGgpLg5DyF",
        "colab_type": "code",
        "colab": {
          "base_uri": "https://localhost:8080/",
          "height": 204
        },
        "outputId": "8d106d93-fce1-41ba-a293-13b8ddfda81f"
      },
      "source": [
        "# Tail_number değişkeni 1'den başlayarak veri setindeki unique sayısına kadar değerler alır\n",
        "\n",
        "tail_unique = canceled_delay['TAIL_NUMBER'].unique()\n",
        "tail_unique_values = list(range(1, len(tail_unique)+1))\n",
        "\n",
        "diction = {tail_unique[i]: tail_unique_values[i] for i in range(len(tail_unique))} \n",
        "\n",
        "def fun(string):\n",
        "    if string in diction:\n",
        "        return int(diction[string])\n",
        "\n",
        "tail_number = canceled_delay[\"TAIL_NUMBER\"].apply(fun)\n",
        "canceled_delay[\"TAIL_NUMBER\"] = tail_number\n",
        "canceled_delay.head()"
      ],
      "execution_count": null,
      "outputs": [
        {
          "output_type": "execute_result",
          "data": {
            "text/html": [
              "<div>\n",
              "<style scoped>\n",
              "    .dataframe tbody tr th:only-of-type {\n",
              "        vertical-align: middle;\n",
              "    }\n",
              "\n",
              "    .dataframe tbody tr th {\n",
              "        vertical-align: top;\n",
              "    }\n",
              "\n",
              "    .dataframe thead th {\n",
              "        text-align: right;\n",
              "    }\n",
              "</style>\n",
              "<table border=\"1\" class=\"dataframe\">\n",
              "  <thead>\n",
              "    <tr style=\"text-align: right;\">\n",
              "      <th></th>\n",
              "      <th>MONTH</th>\n",
              "      <th>DAY</th>\n",
              "      <th>TAIL_NUMBER</th>\n",
              "      <th>CANCELLED</th>\n",
              "      <th>ARRIVAL_DELAY</th>\n",
              "    </tr>\n",
              "  </thead>\n",
              "  <tbody>\n",
              "    <tr>\n",
              "      <th>0</th>\n",
              "      <td>1</td>\n",
              "      <td>1</td>\n",
              "      <td>1</td>\n",
              "      <td>0</td>\n",
              "      <td>-22.0</td>\n",
              "    </tr>\n",
              "    <tr>\n",
              "      <th>1</th>\n",
              "      <td>1</td>\n",
              "      <td>1</td>\n",
              "      <td>2</td>\n",
              "      <td>0</td>\n",
              "      <td>-9.0</td>\n",
              "    </tr>\n",
              "    <tr>\n",
              "      <th>2</th>\n",
              "      <td>1</td>\n",
              "      <td>1</td>\n",
              "      <td>3</td>\n",
              "      <td>0</td>\n",
              "      <td>5.0</td>\n",
              "    </tr>\n",
              "    <tr>\n",
              "      <th>3</th>\n",
              "      <td>1</td>\n",
              "      <td>1</td>\n",
              "      <td>4</td>\n",
              "      <td>0</td>\n",
              "      <td>-9.0</td>\n",
              "    </tr>\n",
              "    <tr>\n",
              "      <th>4</th>\n",
              "      <td>1</td>\n",
              "      <td>1</td>\n",
              "      <td>5</td>\n",
              "      <td>0</td>\n",
              "      <td>-21.0</td>\n",
              "    </tr>\n",
              "  </tbody>\n",
              "</table>\n",
              "</div>"
            ],
            "text/plain": [
              "   MONTH  DAY  TAIL_NUMBER  CANCELLED  ARRIVAL_DELAY\n",
              "0      1    1            1          0          -22.0\n",
              "1      1    1            2          0           -9.0\n",
              "2      1    1            3          0            5.0\n",
              "3      1    1            4          0           -9.0\n",
              "4      1    1            5          0          -21.0"
            ]
          },
          "metadata": {
            "tags": []
          },
          "execution_count": 41
        }
      ]
    },
    {
      "cell_type": "code",
      "metadata": {
        "id": "riLzRRTf6Voa",
        "colab_type": "code",
        "colab": {
          "base_uri": "https://localhost:8080/",
          "height": 119
        },
        "outputId": "57834906-c2a6-49c2-c631-3985bd917b85"
      },
      "source": [
        "# Eksik değerleri 0 değeriyle doldurmak\n",
        "canceled_delay = canceled_delay.fillna(0)\n",
        "canceled_delay.isnull().sum(axis=0)"
      ],
      "execution_count": null,
      "outputs": [
        {
          "output_type": "execute_result",
          "data": {
            "text/plain": [
              "MONTH            0\n",
              "DAY              0\n",
              "TAIL_NUMBER      0\n",
              "CANCELLED        0\n",
              "ARRIVAL_DELAY    0\n",
              "dtype: int64"
            ]
          },
          "metadata": {
            "tags": []
          },
          "execution_count": 30
        }
      ]
    },
    {
      "cell_type": "code",
      "metadata": {
        "id": "YtEXaoKH8vAx",
        "colab_type": "code",
        "colab": {}
      },
      "source": [
        ""
      ],
      "execution_count": null,
      "outputs": []
    },
    {
      "cell_type": "markdown",
      "metadata": {
        "id": "d-yWffbF9L0o",
        "colab_type": "text"
      },
      "source": [
        "# **DELAY_CANCEL** \n",
        "1.   *CANCELED: 1*\n",
        "2.   *DELAYED: 2*\n",
        "3.   *NOT_DELAYED: 0*  \n",
        "\n",
        "\n"
      ]
    },
    {
      "cell_type": "code",
      "metadata": {
        "id": "6IHhe7Z-4scc",
        "colab_type": "code",
        "colab": {
          "base_uri": "https://localhost:8080/",
          "height": 204
        },
        "outputId": "e4e74aa3-7ffe-4832-fd1c-815e5fa74857"
      },
      "source": [
        "canceled_delay['DELAY_CANCEL'] = [ 2 if item > 0 else 0 for item in canceled_delay['ARRIVAL_DELAY']]\n",
        "\n",
        "i = 0\n",
        "for item in canceled_delay['CANCELLED']:\n",
        "    if item == 1:\n",
        "        canceled_delay['DELAY_CANCEL'].iloc[i] = 1\n",
        "    i = i+1\n",
        "\n",
        "\n",
        "canceled_delay = canceled_delay[['MONTH','DAY','TAIL_NUMBER','DELAY_CANCEL']]\n",
        "canceled_delay.head()"
      ],
      "execution_count": null,
      "outputs": [
        {
          "output_type": "execute_result",
          "data": {
            "text/html": [
              "<div>\n",
              "<style scoped>\n",
              "    .dataframe tbody tr th:only-of-type {\n",
              "        vertical-align: middle;\n",
              "    }\n",
              "\n",
              "    .dataframe tbody tr th {\n",
              "        vertical-align: top;\n",
              "    }\n",
              "\n",
              "    .dataframe thead th {\n",
              "        text-align: right;\n",
              "    }\n",
              "</style>\n",
              "<table border=\"1\" class=\"dataframe\">\n",
              "  <thead>\n",
              "    <tr style=\"text-align: right;\">\n",
              "      <th></th>\n",
              "      <th>MONTH</th>\n",
              "      <th>DAY</th>\n",
              "      <th>TAIL_NUMBER</th>\n",
              "      <th>DELAY_CANCEL</th>\n",
              "    </tr>\n",
              "  </thead>\n",
              "  <tbody>\n",
              "    <tr>\n",
              "      <th>0</th>\n",
              "      <td>1</td>\n",
              "      <td>1</td>\n",
              "      <td>1</td>\n",
              "      <td>0</td>\n",
              "    </tr>\n",
              "    <tr>\n",
              "      <th>1</th>\n",
              "      <td>1</td>\n",
              "      <td>1</td>\n",
              "      <td>2</td>\n",
              "      <td>0</td>\n",
              "    </tr>\n",
              "    <tr>\n",
              "      <th>2</th>\n",
              "      <td>1</td>\n",
              "      <td>1</td>\n",
              "      <td>3</td>\n",
              "      <td>2</td>\n",
              "    </tr>\n",
              "    <tr>\n",
              "      <th>3</th>\n",
              "      <td>1</td>\n",
              "      <td>1</td>\n",
              "      <td>4</td>\n",
              "      <td>0</td>\n",
              "    </tr>\n",
              "    <tr>\n",
              "      <th>4</th>\n",
              "      <td>1</td>\n",
              "      <td>1</td>\n",
              "      <td>5</td>\n",
              "      <td>0</td>\n",
              "    </tr>\n",
              "  </tbody>\n",
              "</table>\n",
              "</div>"
            ],
            "text/plain": [
              "   MONTH  DAY  TAIL_NUMBER  DELAY_CANCEL\n",
              "0      1    1            1             0\n",
              "1      1    1            2             0\n",
              "2      1    1            3             2\n",
              "3      1    1            4             0\n",
              "4      1    1            5             0"
            ]
          },
          "metadata": {
            "tags": []
          },
          "execution_count": 44
        }
      ]
    },
    {
      "cell_type": "code",
      "metadata": {
        "id": "ih3ILKCQAS6G",
        "colab_type": "code",
        "colab": {
          "base_uri": "https://localhost:8080/",
          "height": 291
        },
        "outputId": "1c5e2df3-4453-4fd6-db08-ab4489f7db2d"
      },
      "source": [
        "# Çeşitli sınıfları görselleştirmek\n",
        "sns.countplot('DELAY_CANCEL',data=canceled_delay)\n",
        "plt.show()"
      ],
      "execution_count": null,
      "outputs": [
        {
          "output_type": "display_data",
          "data": {
            "image/png": "[encoded data removed]",
            "text/plain": [
              "<Figure size 432x288 with 1 Axes>"
            ]
          },
          "metadata": {
            "tags": [],
            "needs_background": "light"
          }
        }
      ]
    },
    {
      "cell_type": "code",
      "metadata": {
        "id": "2GIPBadS_y5_",
        "colab_type": "code",
        "colab": {}
      },
      "source": [
        "# Veri seti X ve Y olarak ayrışmak\n",
        "Y = canceled_delay['DELAY_CANCEL']\n",
        "X = canceled_delay.drop(['DELAY_CANCEL'], axis=1)"
      ],
      "execution_count": null,
      "outputs": []
    },
    {
      "cell_type": "code",
      "metadata": {
        "id": "MCZHIXcHLnuM",
        "colab_type": "code",
        "colab": {}
      },
      "source": [
        "# Veri seti Eğitim seti ve Test seti olarak bölme işlemi\n",
        "from sklearn.model_selection import train_test_split \n",
        "x_train, x_test, y_train, y_test = train_test_split(X, Y, test_size=0.25, random_state=0)"
      ],
      "execution_count": null,
      "outputs": []
    },
    {
      "cell_type": "code",
      "metadata": {
        "id": "Kw66zRO3Lzn3",
        "colab_type": "code",
        "colab": {
          "base_uri": "https://localhost:8080/",
          "height": 34
        },
        "outputId": "69b69d04-94f7-4dc2-aabe-a62c76375b0c"
      },
      "source": [
        "# LogisticRegression Modeli \n",
        "from sklearn.linear_model import LogisticRegression \n",
        "\n",
        "LR = LogisticRegression(random_state=0, solver='lbfgs', multi_class='multinomial')\n",
        "LR.fit(x_train, y_train)\n",
        "\n",
        "LR.score(x_test,y_test)"
      ],
      "execution_count": null,
      "outputs": [
        {
          "output_type": "execute_result",
          "data": {
            "text/plain": [
              "0.6259188737738611"
            ]
          },
          "metadata": {
            "tags": []
          },
          "execution_count": 135
        }
      ]
    },
    {
      "cell_type": "code",
      "metadata": {
        "id": "jut3HM-1LOXz",
        "colab_type": "code",
        "colab": {}
      },
      "source": [
        "# Predict yapma metodu\n",
        "\n",
        "def my_prediction(result):\n",
        "    my_result = \"\"\n",
        "    if result[0] == 0:\n",
        "        my_result = \"There will not be any delay\"\n",
        "    elif result[0] == 1:\n",
        "        my_result = \"This flight will be cancel\"\n",
        "    else:\n",
        "        my_result = \"There will be a delay\"\n",
        "\n",
        "    return my_result\n",
        "       \n"
      ],
      "execution_count": null,
      "outputs": []
    },
    {
      "cell_type": "code",
      "metadata": {
        "id": "2lvyhJF8PukL",
        "colab_type": "code",
        "colab": {
          "base_uri": "https://localhost:8080/",
          "height": 35
        },
        "outputId": "599843f0-e153-4bab-ebdf-d7d45807cc6a"
      },
      "source": [
        "# Predict edilecek veriyi hazırlayıp tahmin etme\n",
        "def procesing(tail,flight_date='15-11-2020'):\n",
        "    \n",
        "    if tail in diction:\n",
        "        number_tail = diction.get(tail)\n",
        "    else:\n",
        "        diction[tail] = diction.get(list(diction.keys())[-1])+1\n",
        "        number_tail = diction.get(tail)\n",
        "    \n",
        "    day = int(flight_date[:2])\n",
        "    month = int(flight_date[3:5])\n",
        "\n",
        "    my_array = [month,day,number_tail]\n",
        "    my_array = np.array(my_array)\n",
        "    my_array = my_array.reshape(-1,1).T\n",
        "    \n",
        "    \n",
        "    result =  my_prediction(LR.predict(my_array))\n",
        "\n",
        "    return result\n",
        "\n",
        "predicted = procesing('N3HYAA')\n",
        "predicted"
      ],
      "execution_count": null,
      "outputs": [
        {
          "output_type": "execute_result",
          "data": {
            "application/vnd.google.colaboratory.intrinsic": {
              "type": "string"
            },
            "text/plain": [
              "'There will not be any delay'"
            ]
          },
          "metadata": {
            "tags": []
          },
          "execution_count": 132
        }
      ]
    },
    {
      "cell_type": "code",
      "metadata": {
        "id": "drug54jzbOnq",
        "colab_type": "code",
        "colab": {}
      },
      "source": [
        ""
      ],
      "execution_count": null,
      "outputs": []
    }
  ]
}